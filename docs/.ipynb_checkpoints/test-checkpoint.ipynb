{
 "cells": [
  {
   "cell_type": "raw",
   "metadata": {
    "pycharm": {
     "name": "#%% raw\n"
    }
   },
   "source": [
    "---\n",
    "title: \"Eigen-Emulators\"\n",
    "author: \"Jordan Melendez\"\n",
    "date: \"2022-Aug-08\"\n",
    "format:\n",
    "  html:\n",
    "    code-fold: true\n",
    "jupyter: python3\n",
    "---"
   ]
  },
  {
   "cell_type": "code",
   "execution_count": 11,
   "metadata": {
    "pycharm": {
     "name": "#%%\n"
    }
   },
   "outputs": [
    {
     "name": "stdout",
     "output_type": "stream",
     "text": [
      "The autoreload extension is already loaded. To reload it, use:\n",
      "  %reload_ext autoreload\n"
     ]
    }
   ],
   "source": [
    "#| echo: false\n",
    "#| output: false\n",
    "%load_ext autoreload\n",
    "%autoreload 2\n",
    "\n",
    "from IPython.display import display, Markdown\n",
    "import inspect\n",
    "from emulate import jupyter_show_class_method, markdown_class_method"
   ]
  },
  {
   "cell_type": "code",
   "execution_count": 30,
   "metadata": {
    "pycharm": {
     "name": "#%%\n"
    }
   },
   "outputs": [],
   "source": [
    "import numpy as np\n",
    "from emulate import EigenEmulator"
   ]
  },
  {
   "cell_type": "markdown",
   "metadata": {},
   "source": [
    "This notebook describes the inner workings of the eigen-emulator and provides examples of its use."
   ]
  },
  {
   "cell_type": "markdown",
   "metadata": {},
   "source": [
    "## The example problem\n",
    "\n",
    "Let's focus on a simple example of a perturbed Harmonic oscillator potential."
   ]
  },
  {
   "cell_type": "code",
   "execution_count": 29,
   "metadata": {},
   "outputs": [],
   "source": [
    "H0 = ...\n",
    "H1 = ...\n",
    "\n",
    "emulator = EigenEmulator(H0, H1)"
   ]
  },
  {
   "cell_type": "markdown",
   "metadata": {},
   "source": [
    "Note that this just stores the large matrices `H0` and `H1` for later processing. You can examine the simple initialization code of the `EigenEmulator` class below:"
   ]
  },
  {
   "cell_type": "code",
   "execution_count": 35,
   "metadata": {},
   "outputs": [
    {
     "data": {
      "text/markdown": [
       "```python\n",
       "class EigenEmulator:\n",
       "...\n",
       "    def __init__(self, H0, H1):\n",
       "        self.H0 = H0\n",
       "        self.H1 = H1\n",
       "...\n",
       "```"
      ],
      "text/plain": [
       "<IPython.core.display.Markdown object>"
      ]
     },
     "metadata": {},
     "output_type": "display_data"
    }
   ],
   "source": [
    "#| echo: false\n",
    "#| output: true\n",
    "jupyter_show_class_method(EigenEmulator, '__init__')"
   ]
  },
  {
   "cell_type": "markdown",
   "metadata": {},
   "source": [
    "## Choosing training locations\n",
    "\n",
    "The first step in constructing the emulator is to choose possible locations where the \"snapshots\" can be taken.\n",
    "For now, we will just fill the space using a random design. More optimal methods will be discussed later on."
   ]
  },
  {
   "cell_type": "code",
   "execution_count": 34,
   "metadata": {},
   "outputs": [],
   "source": [
    "rng = np.random.default_rng(4)\n",
    "p_train = rng.uniform(-1, 1, size=(10, 2))"
   ]
  },
  {
   "cell_type": "markdown",
   "metadata": {},
   "source": [
    "## Taking snapshots & projecting into the subspace\n",
    "\n",
    "Next we begin to project the large operators `H0` and `H1` into the subspace spanned by `p_train`. It is as simple as calling `fit` on our `EigenEmulator` object."
   ]
  },
  {
   "cell_type": "code",
   "execution_count": 36,
   "metadata": {},
   "outputs": [],
   "source": [
    "emulator.fit(p_train)"
   ]
  },
  {
   "cell_type": "markdown",
   "metadata": {},
   "source": [
    "The code straightforwardly follows Eqs.~(xx) and (yy) in the review article, as seen below:"
   ]
  },
  {
   "cell_type": "code",
   "execution_count": 37,
   "metadata": {},
   "outputs": [
    {
     "data": {
      "text/markdown": [
       "```python\n",
       "class EigenEmulator:\n",
       "...\n",
       "    def fit(self, p_train):\n",
       "        R\"\"\"Fit the emulator at the training points\n",
       "\n",
       "        Parameters\n",
       "        ----------\n",
       "        p_train\n",
       "            The training parameters.\n",
       "\n",
       "        Returns\n",
       "        -------\n",
       "        self\n",
       "        \"\"\"\n",
       "        pass\n",
       "...\n",
       "```"
      ],
      "text/plain": [
       "<IPython.core.display.Markdown object>"
      ]
     },
     "metadata": {},
     "output_type": "display_data"
    }
   ],
   "source": [
    "#| echo: false\n",
    "#| output: true\n",
    "jupyter_show_class_method(EigenEmulator, 'fit')"
   ]
  },
  {
   "cell_type": "markdown",
   "metadata": {},
   "source": [
    "More to come!"
   ]
  },
  {
   "cell_type": "code",
   "execution_count": null,
   "metadata": {},
   "outputs": [],
   "source": []
  }
 ],
 "metadata": {
  "kernelspec": {
   "display_name": "Python 3 (ipykernel)",
   "language": "python",
   "name": "python3"
  },
  "language_info": {
   "codemirror_mode": {
    "name": "ipython",
    "version": 3
   },
   "file_extension": ".py",
   "mimetype": "text/x-python",
   "name": "python",
   "nbconvert_exporter": "python",
   "pygments_lexer": "ipython3",
   "version": "3.9.13"
  }
 },
 "nbformat": 4,
 "nbformat_minor": 1
}
